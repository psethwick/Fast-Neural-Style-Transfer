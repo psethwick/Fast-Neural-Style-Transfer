{
 "cells": [
  {
   "cell_type": "code",
   "execution_count": 1,
   "metadata": {},
   "outputs": [],
   "source": [
    "from test_on_image import style_image\n",
    "from train import train\n",
    "\n",
    "dataset_path = \"/data/home/thumbquat/notebooks/Fast-Neural-Style-Transfer/train_dataset/Faces\"\n",
    "style = \"images/styles/potato.jpg\""
   ]
  },
  {
   "cell_type": "code",
   "execution_count": null,
   "metadata": {},
   "outputs": [
    {
     "name": "stdout",
     "output_type": "stream",
     "text": [
      "[Epoch 1/1] [Batch 83/2562] [Content: 233905.67 (265776.52) Style: 635012.75 (1775522.03) Total: 868918.44 (2041298.53)]]]])]"
     ]
    }
   ],
   "source": [
    "train(dataset_path, style)\n",
    "\n"
   ]
  }
 ],
 "metadata": {
  "kernelspec": {
   "display_name": "Python 3.5",
   "language": "python",
   "name": "python3"
  },
  "language_info": {
   "codemirror_mode": {
    "name": "ipython",
    "version": 3
   },
   "file_extension": ".py",
   "mimetype": "text/x-python",
   "name": "python",
   "nbconvert_exporter": "python",
   "pygments_lexer": "ipython3",
   "version": "3.5.6"
  }
 },
 "nbformat": 4,
 "nbformat_minor": 2
}
