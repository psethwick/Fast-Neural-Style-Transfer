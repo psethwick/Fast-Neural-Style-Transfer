{
 "cells": [
  {
   "cell_type": "code",
   "execution_count": 1,
   "metadata": {},
   "outputs": [],
   "source": [
    "from test_on_image import style_image\n",
    "from train import train\n",
    "\n",
    "dataset_path = \"train_dataset/Faces\"\n",
    "style = \"images/styles/beef700.jpg\""
   ]
  },
  {
   "cell_type": "code",
   "execution_count": 2,
   "metadata": {
    "scrolled": true
   },
   "outputs": [
    {
     "name": "stdout",
     "output_type": "stream",
     "text": [
      "[Epoch 100/100] [Batch 320/320] [Content: 590479.19 (607712.57) Style: 281335.00 (308325.53) Total: 871814.19 (916038.10)]]]]])]]]0)]00)]"
     ]
    }
   ],
   "source": [
    "train(dataset_path, style, epochs=100, image_size=160, style_size=700, batch_size=8, checkpoint_interval=320, sample_interval=160)\n",
    "#checkpoint_interval=600, sample_interval=300, checkpoint_model='checkpoints/potato_2000.pth'\n"
   ]
  },
  {
   "cell_type": "code",
   "execution_count": null,
   "metadata": {},
   "outputs": [],
   "source": []
  }
 ],
 "metadata": {
  "kernelspec": {
   "display_name": "Python 3.5",
   "language": "python",
   "name": "python3"
  },
  "language_info": {
   "codemirror_mode": {
    "name": "ipython",
    "version": 3
   },
   "file_extension": ".py",
   "mimetype": "text/x-python",
   "name": "python",
   "nbconvert_exporter": "python",
   "pygments_lexer": "ipython3",
   "version": "3.5.6"
  }
 },
 "nbformat": 4,
 "nbformat_minor": 2
}
